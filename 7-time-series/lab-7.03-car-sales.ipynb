{
  "cells": [
    {
      "cell_type": "markdown",
      "metadata": {
        "id": "ifLP6PF2VNyG"
      },
      "source": [
        "# Lab 7.03 - Time series analysis"
      ]
    },
    {
      "cell_type": "code",
      "execution_count": 1,
      "metadata": {
        "id": "PwYaTAjzVNyI"
      },
      "outputs": [
        {
          "name": "stderr",
          "output_type": "stream",
          "text": [
            "/tmp/ipykernel_2937/2839152206.py:3: DeprecationWarning: \n",
            "Pyarrow will become a required dependency of pandas in the next major release of pandas (pandas 3.0),\n",
            "(to allow more performant data types, such as the Arrow string type, and better interoperability with other libraries)\n",
            "but was not found to be installed on your system.\n",
            "If this would cause problems for you,\n",
            "please provide us feedback at https://github.com/pandas-dev/pandas/issues/54466\n",
            "        \n",
            "  import pandas as pd                                 # Dataframe\n"
          ]
        }
      ],
      "source": [
        "# Package imports\n",
        "import numpy as np                                  # \"Scientific computing\"\n",
        "import pandas as pd                                 # Dataframe\n",
        "\n",
        "import scipy.stats as stats                         # Statistical tests\n",
        "from sklearn.linear_model import LinearRegression   # Linear regression model\n",
        "\n",
        "import matplotlib.pyplot as plt                     # Basic visualisation\n",
        "from statsmodels.graphics.mosaicplot import mosaic  # Mosaic plot\n",
        "import seaborn as sns                               # Advanced dataviz"
      ]
    },
    {
      "cell_type": "markdown",
      "metadata": {
        "id": "nsaevyk8itxA"
      },
      "source": [
        "## Exercise 3 - Car sales\n",
        "\n",
        "An automobile dealer is using Holt's method to\n",
        "forecast weekly car sales. Currently, the level is\n",
        "estimated to be 50 cars per week, and the trend is\n",
        "estimated to be six cars per week. During the current\n",
        "week, 30 cars are sold. After observing the current\n",
        "week's sales, forecast the number of cars three weeks\n",
        "from now. Use $α = $β = 0.3.\n",
        "\n",
        "These are the appropriate formulae\n",
        "\n",
        "$X_{t} = \\alpha x_{t} + (1-\\alpha)(X_{t-1} + b_{t-1})$\n",
        "\n",
        "$b_{t} = \\beta(X_{t}-X_{t-1}) + (1-\\beta)b_{t-1}$\n",
        "\n",
        "$F_{t+m} = X_t + mb_t$"
      ]
    },
    {
      "cell_type": "code",
      "execution_count": 5,
      "metadata": {},
      "outputs": [
        {
          "name": "stdout",
          "output_type": "stream",
          "text": [
            "48.199999999999996\n",
            "3.659999999999998\n",
            "59.17999999999999\n"
          ]
        }
      ],
      "source": [
        "m = 3 # 3 weeks from now\n",
        "x_t = 30 # sales of this week\n",
        "X_t_minus_1 = 50 # level (estimated level)\n",
        "b_t_minus_1 = 6 # trend\n",
        "\n",
        "alpha = 0.3\n",
        "beta = 0.3\n",
        "X_t = alpha * x_t + (1 - alpha)*(X_t_minus_1+b_t_minus_1)\n",
        "print(X_t)\n",
        "b_t = beta*(X_t - X_t_minus_1)+(1-beta)*b_t_minus_1\n",
        "print(b_t)\n",
        "# in 3 weeks:\n",
        "F_t_plus_3 = X_t + m*b_t\n",
        "print(F_t_plus_3)"
      ]
    },
    {
      "cell_type": "markdown",
      "metadata": {
        "id": "OzaYuRuogzWf"
      },
      "source": [
        "## Source\n",
        "Business Analytics Data Analysis & Decision Making "
      ]
    }
  ],
  "metadata": {
    "colab": {
      "provenance": []
    },
    "interpreter": {
      "hash": "e7370f93d1d0cde622a1f8e1c04877d8463912d04d973331ad4851f04de6915a"
    },
    "kernelspec": {
      "display_name": "Python 3.10.3 64-bit",
      "language": "python",
      "name": "python3"
    },
    "language_info": {
      "codemirror_mode": {
        "name": "ipython",
        "version": 3
      },
      "file_extension": ".py",
      "mimetype": "text/x-python",
      "name": "python",
      "nbconvert_exporter": "python",
      "pygments_lexer": "ipython3",
      "version": "3.10.13"
    },
    "orig_nbformat": 4
  },
  "nbformat": 4,
  "nbformat_minor": 0
}
