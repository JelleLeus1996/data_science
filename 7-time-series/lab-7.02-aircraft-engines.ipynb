{
  "cells": [
    {
      "cell_type": "markdown",
      "metadata": {
        "id": "ifLP6PF2VNyG"
      },
      "source": [
        "# Lab 7.02 - Time series analysis"
      ]
    },
    {
      "cell_type": "code",
      "execution_count": 1,
      "metadata": {
        "id": "PwYaTAjzVNyI"
      },
      "outputs": [
        {
          "name": "stderr",
          "output_type": "stream",
          "text": [
            "/tmp/ipykernel_28813/2839152206.py:3: DeprecationWarning: \n",
            "Pyarrow will become a required dependency of pandas in the next major release of pandas (pandas 3.0),\n",
            "(to allow more performant data types, such as the Arrow string type, and better interoperability with other libraries)\n",
            "but was not found to be installed on your system.\n",
            "If this would cause problems for you,\n",
            "please provide us feedback at https://github.com/pandas-dev/pandas/issues/54466\n",
            "        \n",
            "  import pandas as pd                                 # Dataframe\n"
          ]
        }
      ],
      "source": [
        "# Package imports\n",
        "import numpy as np                                  # \"Scientific computing\"\n",
        "import pandas as pd                                 # Dataframe\n",
        "\n",
        "import scipy.stats as stats                         # Statistical tests\n",
        "from sklearn.linear_model import LinearRegression   # Linear regression model\n",
        "\n",
        "import matplotlib.pyplot as plt                     # Basic visualisation\n",
        "from statsmodels.graphics.mosaicplot import mosaic  # Mosaic plot\n",
        "import seaborn as sns                               # Advanced dataviz"
      ]
    },
    {
      "cell_type": "markdown",
      "metadata": {
        "id": "z8e3JogMwQLG"
      },
      "source": [
        "## Exercise 2 - aircraft engines\n",
        "\n",
        "You have been assigned to forecast the number of aircraft engines ordered each month from an engine manufacturing company. At the end of February, the\n",
        "forecast is that 100 engines will be ordered during April.\n",
        "Then during March, 120 engines are actually ordered.  \n",
        "Using $\\alpha$ = 0.3, determine a forecast (at the end of March) for the number of orders placed during April and during May. Use simple exponential\n",
        "smoothing.  \n",
        "These are the appropriate formulae\n",
        "\n",
        "$X_t = \\alpha x_t + (1 - \\alpha) X_{t-1}$\n",
        "\n",
        "$F_{t+m} = X_t$"
      ]
    },
    {
      "cell_type": "code",
      "execution_count": 3,
      "metadata": {},
      "outputs": [
        {
          "name": "stdout",
          "output_type": "stream",
          "text": [
            "106.0\n"
          ]
        }
      ],
      "source": [
        "# Gebruik Simple Exponential Smoothing\n",
        "# Hierbij is F_april = F_mei = F_juni (dit is gevraagd)\n",
        "# F_april = F_mei = X_einde_maart (dit is gevraagd)\n",
        "alpha = 0.3\n",
        "X_einde_febuari = 100 #X__t_min_1 (forecast voor april in febuari)\n",
        "x_einde_maart = 120\n",
        "X_einde_maart = alpha * x_einde_maart + (1 - alpha)*X_einde_febuari\n",
        "print(X_einde_maart)"
      ]
    },
    {
      "cell_type": "markdown",
      "metadata": {
        "id": "OzaYuRuogzWf"
      },
      "source": [
        "## Source\n",
        "Business Analytics Data Analysis & Decision Making "
      ]
    }
  ],
  "metadata": {
    "colab": {
      "provenance": []
    },
    "interpreter": {
      "hash": "e7370f93d1d0cde622a1f8e1c04877d8463912d04d973331ad4851f04de6915a"
    },
    "kernelspec": {
      "display_name": "Python 3.10.3 64-bit",
      "language": "python",
      "name": "python3"
    },
    "language_info": {
      "codemirror_mode": {
        "name": "ipython",
        "version": 3
      },
      "file_extension": ".py",
      "mimetype": "text/x-python",
      "name": "python",
      "nbconvert_exporter": "python",
      "pygments_lexer": "ipython3",
      "version": "3.10.13"
    },
    "orig_nbformat": 4
  },
  "nbformat": 4,
  "nbformat_minor": 0
}
