{
 "cells": [
  {
   "cell_type": "markdown",
   "metadata": {},
   "source": [
    "# Errors\n",
    "\n",
    "Sampling errors\n",
    "- Accidental sampling error\n",
    "Steekproef met per ongeluk een vertekende steekproef\n",
    "- Non accidental error\n",
    "Systematisch dezelfde elementen nemen of bepaalde groep uitsluiten\n",
    "(niet iedereen heeft evenveel kans om gekozen te worden)\n",
    "\n",
    "Non-sampling errors\n",
    "- Accidentanl non-sampling error\n",
    "vb respondent begrijpt de vraag niet goed en antwoordt verkeerd\n",
    "- Systematic non-sampling error\n",
    "Respondenten antwoorden bewust verkeerd\n"
   ]
  },
  {
   "cell_type": "code",
   "execution_count": 2,
   "metadata": {},
   "outputs": [
    {
     "name": "stderr",
     "output_type": "stream",
     "text": [
      "/tmp/ipykernel_3072/48876594.py:5: DeprecationWarning: \n",
      "Pyarrow will become a required dependency of pandas in the next major release of pandas (pandas 3.0),\n",
      "(to allow more performant data types, such as the Arrow string type, and better interoperability with other libraries)\n",
      "but was not found to be installed on your system.\n",
      "If this would cause problems for you,\n",
      "please provide us feedback at https://github.com/pandas-dev/pandas/issues/54466\n",
      "        \n",
      "  import pandas as pd                                 # Data Frame\n"
     ]
    }
   ],
   "source": [
    "# Importing the necessary packages\n",
    "import numpy as np                                  # \"Scientific computing\"\n",
    "import scipy.stats as stats                         # Statistical tests\n",
    "\n",
    "import pandas as pd                                 # Data Frame\n",
    "from pandas.api.types import CategoricalDtype\n",
    "\n",
    "import matplotlib.pyplot as plt                     # Basic visualisation\n",
    "from statsmodels.graphics.mosaicplot import mosaic  # Mosaic diagram\n",
    "import seaborn as sns                               # Advanced data visualisation"
   ]
  },
  {
   "cell_type": "code",
   "execution_count": 13,
   "metadata": {},
   "outputs": [
    {
     "data": {
      "text/html": [
       "<div>\n",
       "<style scoped>\n",
       "    .dataframe tbody tr th:only-of-type {\n",
       "        vertical-align: middle;\n",
       "    }\n",
       "\n",
       "    .dataframe tbody tr th {\n",
       "        vertical-align: top;\n",
       "    }\n",
       "\n",
       "    .dataframe thead th {\n",
       "        text-align: right;\n",
       "    }\n",
       "</style>\n",
       "<table border=\"1\" class=\"dataframe\">\n",
       "  <thead>\n",
       "    <tr style=\"text-align: right;\">\n",
       "      <th></th>\n",
       "      <th>Age</th>\n",
       "      <th>Women_Unmarried</th>\n",
       "      <th>Men_Unmarried</th>\n",
       "      <th>Women_Married</th>\n",
       "      <th>Men_Married</th>\n",
       "      <th>Women_Widowed</th>\n",
       "      <th>Men_Widowed</th>\n",
       "      <th>Women_Divorced</th>\n",
       "      <th>Men_Divorced</th>\n",
       "    </tr>\n",
       "  </thead>\n",
       "  <tbody>\n",
       "    <tr>\n",
       "      <th>0</th>\n",
       "      <td>0</td>\n",
       "      <td>55736</td>\n",
       "      <td>58323</td>\n",
       "      <td>NaN</td>\n",
       "      <td>NaN</td>\n",
       "      <td>NaN</td>\n",
       "      <td>NaN</td>\n",
       "      <td>NaN</td>\n",
       "      <td>NaN</td>\n",
       "    </tr>\n",
       "    <tr>\n",
       "      <th>1</th>\n",
       "      <td>1</td>\n",
       "      <td>58676</td>\n",
       "      <td>61395</td>\n",
       "      <td>NaN</td>\n",
       "      <td>NaN</td>\n",
       "      <td>NaN</td>\n",
       "      <td>NaN</td>\n",
       "      <td>NaN</td>\n",
       "      <td>NaN</td>\n",
       "    </tr>\n",
       "    <tr>\n",
       "      <th>2</th>\n",
       "      <td>2</td>\n",
       "      <td>57171</td>\n",
       "      <td>59793</td>\n",
       "      <td>NaN</td>\n",
       "      <td>NaN</td>\n",
       "      <td>NaN</td>\n",
       "      <td>NaN</td>\n",
       "      <td>NaN</td>\n",
       "      <td>NaN</td>\n",
       "    </tr>\n",
       "    <tr>\n",
       "      <th>3</th>\n",
       "      <td>3</td>\n",
       "      <td>59316</td>\n",
       "      <td>61471</td>\n",
       "      <td>NaN</td>\n",
       "      <td>NaN</td>\n",
       "      <td>NaN</td>\n",
       "      <td>NaN</td>\n",
       "      <td>NaN</td>\n",
       "      <td>NaN</td>\n",
       "    </tr>\n",
       "    <tr>\n",
       "      <th>4</th>\n",
       "      <td>4</td>\n",
       "      <td>60023</td>\n",
       "      <td>62562</td>\n",
       "      <td>NaN</td>\n",
       "      <td>NaN</td>\n",
       "      <td>NaN</td>\n",
       "      <td>NaN</td>\n",
       "      <td>NaN</td>\n",
       "      <td>NaN</td>\n",
       "    </tr>\n",
       "  </tbody>\n",
       "</table>\n",
       "</div>"
      ],
      "text/plain": [
       "   Age  Women_Unmarried  Men_Unmarried  Women_Married  Men_Married  \\\n",
       "0    0            55736          58323            NaN          NaN   \n",
       "1    1            58676          61395            NaN          NaN   \n",
       "2    2            57171          59793            NaN          NaN   \n",
       "3    3            59316          61471            NaN          NaN   \n",
       "4    4            60023          62562            NaN          NaN   \n",
       "\n",
       "   Women_Widowed  Men_Widowed  Women_Divorced  Men_Divorced  \n",
       "0            NaN          NaN             NaN           NaN  \n",
       "1            NaN          NaN             NaN           NaN  \n",
       "2            NaN          NaN             NaN           NaN  \n",
       "3            NaN          NaN             NaN           NaN  \n",
       "4            NaN          NaN             NaN           NaN  "
      ]
     },
     "execution_count": 13,
     "metadata": {},
     "output_type": "execute_result"
    }
   ],
   "source": [
    "# Load the XLSX file into a DataFrame\n",
    "data = pd.read_excel('https://github.com/HoGentTIN/dsai-labs/raw/main/data/belgian_population.xlsx')\n",
    "data.head()"
   ]
  },
  {
   "cell_type": "code",
   "execution_count": null,
   "metadata": {},
   "outputs": [],
   "source": [
    "#replace NaN in dataset:\n",
    "data.fillna(0,inplace=True)"
   ]
  },
  {
   "cell_type": "code",
   "execution_count": null,
   "metadata": {},
   "outputs": [],
   "source": [
    "# Replace NaN with 0 in specific columns only\n",
    "data[['column1', 'column2']] = data[['column1', 'column2']].fillna(0)"
   ]
  },
  {
   "cell_type": "code",
   "execution_count": null,
   "metadata": {},
   "outputs": [],
   "source": [
    "# Add a column (that sums other columns) to your dataset \n",
    "data['Number_of_Women'] = data[['Women_Unmarried','Women_Married','Women_Widowed','Women_Divorced']].sum(axis=1)\n",
    "data.head()"
   ]
  },
  {
   "cell_type": "code",
   "execution_count": null,
   "metadata": {},
   "outputs": [],
   "source": [
    "# Sum all numbers of a column\n",
    "total_number_of_women = data.Number_of_Women.sum()\n",
    "print(total_number_of_women)"
   ]
  },
  {
   "cell_type": "code",
   "execution_count": 8,
   "metadata": {},
   "outputs": [
    {
     "name": "stdout",
     "output_type": "stream",
     "text": [
      "Number of rows: 101\n",
      "Number of columns: 9\n",
      "The shape (columns & rows) of the data frame is : (101, 9)\n",
      "<class 'pandas.core.frame.DataFrame'>\n",
      "RangeIndex: 101 entries, 0 to 100\n",
      "Data columns (total 9 columns):\n",
      " #   Column           Non-Null Count  Dtype  \n",
      "---  ------           --------------  -----  \n",
      " 0   Age              101 non-null    int64  \n",
      " 1   Women_Unmarried  101 non-null    int64  \n",
      " 2   Men_Unmarried    101 non-null    int64  \n",
      " 3   Women_Married    85 non-null     float64\n",
      " 4   Men_Married      83 non-null     float64\n",
      " 5   Women_Widowed    80 non-null     float64\n",
      " 6   Men_Widowed      78 non-null     float64\n",
      " 7   Women_Divorced   81 non-null     float64\n",
      " 8   Men_Divorced     80 non-null     float64\n",
      "dtypes: float64(6), int64(3)\n",
      "memory usage: 7.2 KB\n",
      "None\n",
      "Age                  int64\n",
      "Women_Unmarried      int64\n",
      "Men_Unmarried        int64\n",
      "Women_Married      float64\n",
      "Men_Married        float64\n",
      "Women_Widowed      float64\n",
      "Men_Widowed        float64\n",
      "Women_Divorced     float64\n",
      "Men_Divorced       float64\n",
      "dtype: object\n",
      "float64    6\n",
      "int64      3\n",
      "Name: count, dtype: int64\n"
     ]
    }
   ],
   "source": [
    "# Number of rows:\n",
    "print(f\"Number of rows: {len(data)}\")\n",
    "# Number of columns\n",
    "print(f\"Number of columns: {len(data.columns)}\")\n",
    "# Shape of the data frame\n",
    "print(f\"The shape (columns & rows) of the data frame is : {data.shape}\")\n",
    "# General information (number of empty fields & type of each variable)\n",
    "print(data.info())\n",
    "# Show only the datatypes\n",
    "print(data.dtypes)\n",
    "# How many elements of each type\n",
    "print(data.dtypes.value_counts())\n",
    "# Measurement level: nominal, ordinal, interval, ratio\n"
   ]
  },
  {
   "cell_type": "code",
   "execution_count": 9,
   "metadata": {},
   "outputs": [
    {
     "data": {
      "text/html": [
       "<div>\n",
       "<style scoped>\n",
       "    .dataframe tbody tr th:only-of-type {\n",
       "        vertical-align: middle;\n",
       "    }\n",
       "\n",
       "    .dataframe tbody tr th {\n",
       "        vertical-align: top;\n",
       "    }\n",
       "\n",
       "    .dataframe thead th {\n",
       "        text-align: right;\n",
       "    }\n",
       "</style>\n",
       "<table border=\"1\" class=\"dataframe\">\n",
       "  <thead>\n",
       "    <tr style=\"text-align: right;\">\n",
       "      <th></th>\n",
       "      <th>Women_Unmarried</th>\n",
       "      <th>Men_Unmarried</th>\n",
       "      <th>Women_Married</th>\n",
       "      <th>Men_Married</th>\n",
       "      <th>Women_Widowed</th>\n",
       "      <th>Men_Widowed</th>\n",
       "      <th>Women_Divorced</th>\n",
       "      <th>Men_Divorced</th>\n",
       "    </tr>\n",
       "    <tr>\n",
       "      <th>Age</th>\n",
       "      <th></th>\n",
       "      <th></th>\n",
       "      <th></th>\n",
       "      <th></th>\n",
       "      <th></th>\n",
       "      <th></th>\n",
       "      <th></th>\n",
       "      <th></th>\n",
       "    </tr>\n",
       "  </thead>\n",
       "  <tbody>\n",
       "    <tr>\n",
       "      <th>0</th>\n",
       "      <td>55736</td>\n",
       "      <td>58323</td>\n",
       "      <td>NaN</td>\n",
       "      <td>NaN</td>\n",
       "      <td>NaN</td>\n",
       "      <td>NaN</td>\n",
       "      <td>NaN</td>\n",
       "      <td>NaN</td>\n",
       "    </tr>\n",
       "    <tr>\n",
       "      <th>1</th>\n",
       "      <td>58676</td>\n",
       "      <td>61395</td>\n",
       "      <td>NaN</td>\n",
       "      <td>NaN</td>\n",
       "      <td>NaN</td>\n",
       "      <td>NaN</td>\n",
       "      <td>NaN</td>\n",
       "      <td>NaN</td>\n",
       "    </tr>\n",
       "    <tr>\n",
       "      <th>2</th>\n",
       "      <td>57171</td>\n",
       "      <td>59793</td>\n",
       "      <td>NaN</td>\n",
       "      <td>NaN</td>\n",
       "      <td>NaN</td>\n",
       "      <td>NaN</td>\n",
       "      <td>NaN</td>\n",
       "      <td>NaN</td>\n",
       "    </tr>\n",
       "    <tr>\n",
       "      <th>3</th>\n",
       "      <td>59316</td>\n",
       "      <td>61471</td>\n",
       "      <td>NaN</td>\n",
       "      <td>NaN</td>\n",
       "      <td>NaN</td>\n",
       "      <td>NaN</td>\n",
       "      <td>NaN</td>\n",
       "      <td>NaN</td>\n",
       "    </tr>\n",
       "    <tr>\n",
       "      <th>4</th>\n",
       "      <td>60023</td>\n",
       "      <td>62562</td>\n",
       "      <td>NaN</td>\n",
       "      <td>NaN</td>\n",
       "      <td>NaN</td>\n",
       "      <td>NaN</td>\n",
       "      <td>NaN</td>\n",
       "      <td>NaN</td>\n",
       "    </tr>\n",
       "    <tr>\n",
       "      <th>...</th>\n",
       "      <td>...</td>\n",
       "      <td>...</td>\n",
       "      <td>...</td>\n",
       "      <td>...</td>\n",
       "      <td>...</td>\n",
       "      <td>...</td>\n",
       "      <td>...</td>\n",
       "      <td>...</td>\n",
       "    </tr>\n",
       "    <tr>\n",
       "      <th>96</th>\n",
       "      <td>287</td>\n",
       "      <td>68</td>\n",
       "      <td>136.0</td>\n",
       "      <td>417.0</td>\n",
       "      <td>4152.0</td>\n",
       "      <td>953.0</td>\n",
       "      <td>175.0</td>\n",
       "      <td>33.0</td>\n",
       "    </tr>\n",
       "    <tr>\n",
       "      <th>97</th>\n",
       "      <td>235</td>\n",
       "      <td>41</td>\n",
       "      <td>78.0</td>\n",
       "      <td>259.0</td>\n",
       "      <td>3016.0</td>\n",
       "      <td>659.0</td>\n",
       "      <td>144.0</td>\n",
       "      <td>23.0</td>\n",
       "    </tr>\n",
       "    <tr>\n",
       "      <th>98</th>\n",
       "      <td>159</td>\n",
       "      <td>29</td>\n",
       "      <td>51.0</td>\n",
       "      <td>138.0</td>\n",
       "      <td>2133.0</td>\n",
       "      <td>419.0</td>\n",
       "      <td>75.0</td>\n",
       "      <td>14.0</td>\n",
       "    </tr>\n",
       "    <tr>\n",
       "      <th>99</th>\n",
       "      <td>135</td>\n",
       "      <td>9</td>\n",
       "      <td>23.0</td>\n",
       "      <td>77.0</td>\n",
       "      <td>1310.0</td>\n",
       "      <td>284.0</td>\n",
       "      <td>50.0</td>\n",
       "      <td>5.0</td>\n",
       "    </tr>\n",
       "    <tr>\n",
       "      <th>100</th>\n",
       "      <td>171</td>\n",
       "      <td>18</td>\n",
       "      <td>25.0</td>\n",
       "      <td>67.0</td>\n",
       "      <td>2019.0</td>\n",
       "      <td>349.0</td>\n",
       "      <td>70.0</td>\n",
       "      <td>14.0</td>\n",
       "    </tr>\n",
       "  </tbody>\n",
       "</table>\n",
       "<p>101 rows × 8 columns</p>\n",
       "</div>"
      ],
      "text/plain": [
       "     Women_Unmarried  Men_Unmarried  Women_Married  Men_Married  \\\n",
       "Age                                                               \n",
       "0              55736          58323            NaN          NaN   \n",
       "1              58676          61395            NaN          NaN   \n",
       "2              57171          59793            NaN          NaN   \n",
       "3              59316          61471            NaN          NaN   \n",
       "4              60023          62562            NaN          NaN   \n",
       "..               ...            ...            ...          ...   \n",
       "96               287             68          136.0        417.0   \n",
       "97               235             41           78.0        259.0   \n",
       "98               159             29           51.0        138.0   \n",
       "99               135              9           23.0         77.0   \n",
       "100              171             18           25.0         67.0   \n",
       "\n",
       "     Women_Widowed  Men_Widowed  Women_Divorced  Men_Divorced  \n",
       "Age                                                            \n",
       "0              NaN          NaN             NaN           NaN  \n",
       "1              NaN          NaN             NaN           NaN  \n",
       "2              NaN          NaN             NaN           NaN  \n",
       "3              NaN          NaN             NaN           NaN  \n",
       "4              NaN          NaN             NaN           NaN  \n",
       "..             ...          ...             ...           ...  \n",
       "96          4152.0        953.0           175.0          33.0  \n",
       "97          3016.0        659.0           144.0          23.0  \n",
       "98          2133.0        419.0            75.0          14.0  \n",
       "99          1310.0        284.0            50.0           5.0  \n",
       "100         2019.0        349.0            70.0          14.0  \n",
       "\n",
       "[101 rows x 8 columns]"
      ]
     },
     "execution_count": 9,
     "metadata": {},
     "output_type": "execute_result"
    }
   ],
   "source": [
    "# Set a column (age here) as index\n",
    "data.set_index(['Age'])"
   ]
  },
  {
   "cell_type": "code",
   "execution_count": 11,
   "metadata": {},
   "outputs": [
    {
     "name": "stdout",
     "output_type": "stream",
     "text": [
      "count       83.000000\n",
      "mean     24470.602410\n",
      "std      17136.041174\n",
      "min         10.000000\n",
      "25%       6437.000000\n",
      "50%      27395.000000\n",
      "75%      39579.000000\n",
      "max      49080.000000\n",
      "Name: Men_Married, dtype: float64\n"
     ]
    }
   ],
   "source": [
    "# Change the type of column ex. object to a category (qualitative variables)\n",
    "# data.sex = data.sex.astype('category')\n",
    "# Get info of a column\n",
    "print(data.Men_Married.describe())"
   ]
  },
  {
   "cell_type": "code",
   "execution_count": 23,
   "metadata": {},
   "outputs": [
    {
     "data": {
      "text/plain": [
       "84    15412.0\n",
       "85    13381.0\n",
       "Name: Men_Married, dtype: float64"
      ]
     },
     "execution_count": 23,
     "metadata": {},
     "output_type": "execute_result"
    }
   ],
   "source": [
    "# Select only the second row:\n",
    "data.iloc[2]\n",
    "# Select row 4 to 6\n",
    "data.iloc[4:7]\n",
    "# Select column 3 to 6\n",
    "data.iloc[:,3:7]\n",
    "# Retrieve 1 column by name\n",
    "data.Women_Widowed\n",
    "# Observations where married women above 40K\n",
    "data[data.Women_Married > 40000]\n",
    "# Observations where widowed men above 5K, only show men married\n",
    "data[data.Men_Widowed > 5000].Men_Married\n"
   ]
  },
  {
   "cell_type": "code",
   "execution_count": 17,
   "metadata": {},
   "outputs": [
    {
     "data": {
      "text/plain": [
       "<seaborn.axisgrid.FacetGrid at 0x799606b69fc0>"
      ]
     },
     "execution_count": 17,
     "metadata": {},
     "output_type": "execute_result"
    },
    {
     "data": {
      "image/png": "[encoded data removed]",
      "text/plain": [
       "<Figure size 500x500 with 1 Axes>"
      ]
     },
     "metadata": {},
     "output_type": "display_data"
    }
   ],
   "source": [
    "sns.displot(x=data.Age, kde=True)"
   ]
  },
  {
   "cell_type": "code",
   "execution_count": 3,
   "metadata": {},
   "outputs": [
    {
     "name": "stdout",
     "output_type": "stream",
     "text": [
      "   Age AgeCategory\n",
      "0   23       19-35\n",
      "1   45       36-65\n",
      "2   18        0-18\n",
      "3   36       36-65\n",
      "4   67         65+\n",
      "5   15        0-18\n",
      "6   30       19-35\n"
     ]
    }
   ],
   "source": [
    "#Omzetting numerieke data naar categorische variabelen vb leeftijd\n",
    "data = {'Age': [23, 45, 18, 36, 67, 15, 30]}\n",
    "df = pd.DataFrame(data)\n",
    "\n",
    "# We kunnen de leeftijden omzetten naar leeftijdscategorieën\n",
    "#pd.cut functie gebruikt om de 'Age' kolom te verdelen in de opgegeven 'bins' en deze te labelen met de opgegeven 'labels'.\n",
    "#'AgeCategory' bevat nu de categorische representatie van de leeftijden.\n",
    "bins = [0, 18, 35, 65, 100]\n",
    "labels = ['0-18', '19-35', '36-65', '65+']\n",
    "df['AgeCategory'] = pd.cut(df['Age'], bins=bins, labels=labels)\n",
    "\n",
    "print(df)"
   ]
  },
  {
   "cell_type": "code",
   "execution_count": 3,
   "metadata": {},
   "outputs": [
    {
     "name": "stdout",
     "output_type": "stream",
     "text": [
      "category\n"
     ]
    }
   ],
   "source": [
    "#Omzetting niet-numerieke data naar categorische variabelen vb kleur\n",
    "data = {'Color': ['Red', 'Blue', 'Green', 'Red', 'Blue']}\n",
    "df = pd.DataFrame(data)\n",
    "\n",
    "# We kunnen de 'Color' kolom omzetten naar een categorisch type\n",
    "df['Color'] = df['Color'].astype('category')\n",
    "\n",
    "print(df['Color'].dtype)  # Output: category"
   ]
  },
  {
   "cell_type": "code",
   "execution_count": null,
   "metadata": {},
   "outputs": [],
   "source": [
    "#Omzetting niet-numerieke data naar geordende categorische variabelen vb diploma\n",
    "data = {'EducationLevel': ['Bachelor', 'High School', 'Master', 'PhD', 'Bachelor']}\n",
    "df = pd.DataFrame(data)\n",
    "\n",
    "# Definieer de volgorde van de categorieën\n",
    "cat_type = CategoricalDtype(categories=['High School', 'Bachelor', 'Master', 'PhD'], ordered=True)\n",
    "\n",
    "# Zet de 'EducationLevel' kolom om naar een geordende categorische variabele\n",
    "df['EducationLevel'] = df['EducationLevel'].astype(cat_type)\n",
    "\n",
    "print(df['EducationLevel'])\n",
    "#stelt je in staat om vergelijkingen en sorteringen uit te voeren die de gedefinieerde volgorde respecteren.\n"
   ]
  },
  {
   "cell_type": "code",
   "execution_count": null,
   "metadata": {},
   "outputs": [],
   "source": [
    "# Drop rows in a dataset (the first three rows here)\n",
    "df_dropped = df.iloc[3:]\n",
    "\n",
    "# If you want to reset the index after dropping\n",
    "df_dropped.reset_index(drop=True, inplace=True)\n"
   ]
  },
  {
   "cell_type": "markdown",
   "metadata": {},
   "source": [
    "Alle unieke waarden van 1 kolom\n",
    "\n",
    "df.gender.unique() => M & V\n",
    "\n",
    "Lege waarden invullen\n",
    "\n",
    "df.filla(0,inplace=True)"
   ]
  },
  {
   "cell_type": "markdown",
   "metadata": {},
   "source": [
    "H3 \n",
    "- right tailed z test\n",
    "- Left tailed z test\n",
    "- two tailed z test\n",
    "- right tailed t test\n",
    "- left tailed t test\n",
    "- two tailed t test\n",
    "\n",
    "H4: Bivariate-qual:\n",
    "Onafhankelijke & afhankelijke veranderelijke: Kwalitatieve variabelen (tekstuele variabelen)\n",
    "- Chi kwadraat test\n",
    "- Goodness of fit test\n",
    "\n",
    "H5: Bivariate analyse qual-quant\n",
    "Onafhankelijk veranderelijke = kwalitatieve variabele\n",
    "EN afhankelijke veranderlijke = kwantitatieve variabele\n",
    "- two sample t-test\n",
    "   - independent two sample t-test: Vergelijking tussen 2 verschillende groepen\n",
    "   - paired sample t-test: Vergelijking éénzelfde groep bijv. voor en na behandeling\n",
    "\n",
    "H6: Regressie analyse:\n",
    "Onafhankelijke & afhankelijke veranderelijke: kwantitatieve variabelen\n",
    "- Best benaderende rechte?\n",
    "\n",
    "Hoe berekenen?\n",
    "x = ...\n",
    "y = ...\n",
    "a, b = np.polyfit(x, y, 1)\n",
    "y = ax + b\n",
    "\n",
    "3 metrieken: \n",
    "\n",
    "1) covariantie --> Positief = stijgend verband; negatief = dalend verband\n",
    "\n",
    "2) Correlatie \n",
    "- Positief = stijgend verband; negatief = dalend verband\n",
    "- Dicht bij 1 = sterk verband; dicht bij 0 = zwak verband\n",
    "\n",
    "3) R²\n",
    "- Dicht bij 1 = sterk verband; dicht bij 0 = zwak verband\n",
    "- ... % van de variantie van de afhankelijk veranderlijke wordt bepaald door de onafhankelijk veranderlijke\n"
   ]
  }
 ],
 "metadata": {
  "kernelspec": {
   "display_name": "Python 3",
   "language": "python",
   "name": "python3"
  },
  "language_info": {
   "codemirror_mode": {
    "name": "ipython",
    "version": 3
   },
   "file_extension": ".py",
   "mimetype": "text/x-python",
   "name": "python",
   "nbconvert_exporter": "python",
   "pygments_lexer": "ipython3",
   "version": "3.10.13"
  }
 },
 "nbformat": 4,
 "nbformat_minor": 2
}
