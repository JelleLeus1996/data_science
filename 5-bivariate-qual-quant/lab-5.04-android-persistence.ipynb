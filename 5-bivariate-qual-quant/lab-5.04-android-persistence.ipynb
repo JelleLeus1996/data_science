{
  "cells": [
    {
      "cell_type": "markdown",
      "metadata": {
        "id": "RzEWLSEPt30W"
      },
      "source": [
        "# Lab 5.04 - Two-sample t-test"
      ]
    },
    {
      "cell_type": "code",
      "execution_count": 22,
      "metadata": {
        "id": "QnEzGI2its2h"
      },
      "outputs": [],
      "source": [
        "# Package imports\n",
        "import numpy as np                                  # \"Scientific computing\"\n",
        "import scipy.stats as stats                         # Statistical tests\n",
        "\n",
        "import pandas as pd                                 # Dataframe\n",
        "import matplotlib.pyplot as plt                     # Basic visualisation\n",
        "from statsmodels.graphics.mosaicplot import mosaic  # Mosaic plot\n",
        "import seaborn as sns                               # Advanced dataviz"
      ]
    },
    {
      "cell_type": "markdown",
      "metadata": {},
      "source": [
        "## Exercise 4 - Android Persistence libraries performance comparison\n",
        "\n",
        "We analyzed the results of performance measurements for Android persistence libraries (Akin, 2016). Experiments were performed for different combinations of *DataSize* (Small, Medium, Large) and *PersistenceType* (GreenDAO, Realm, SharedPreferences, SQLite). For each data size, we were able to determine which persistence type yielded the best results.\n",
        "\n",
        "Now we will verify if the best persistence type at first glance is also *significantly* better than the competition.\n",
        "\n",
        "Specifically: Using a two-sample test for each data size, verify that the mean of the best persistence type is significantly lower than the mean of the second best and the worst scoring type.\n",
        "\n",
        "Can we maintain the conclusion that for a given data size, one persistence type is best, i.e. is significantly better than any other persistence type?"
      ]
    },
    {
      "cell_type": "code",
      "execution_count": 23,
      "metadata": {},
      "outputs": [
        {
          "data": {
            "text/html": [
              "<div>\n",
              "<style scoped>\n",
              "    .dataframe tbody tr th:only-of-type {\n",
              "        vertical-align: middle;\n",
              "    }\n",
              "\n",
              "    .dataframe tbody tr th {\n",
              "        vertical-align: top;\n",
              "    }\n",
              "\n",
              "    .dataframe thead th {\n",
              "        text-align: right;\n",
              "    }\n",
              "</style>\n",
              "<table border=\"1\" class=\"dataframe\">\n",
              "  <thead>\n",
              "    <tr style=\"text-align: right;\">\n",
              "      <th></th>\n",
              "      <th>Time</th>\n",
              "      <th>PersistenceType</th>\n",
              "      <th>DataSize</th>\n",
              "    </tr>\n",
              "  </thead>\n",
              "  <tbody>\n",
              "    <tr>\n",
              "      <th>0</th>\n",
              "      <td>1.81</td>\n",
              "      <td>Sharedpreferences</td>\n",
              "      <td>Small</td>\n",
              "    </tr>\n",
              "    <tr>\n",
              "      <th>1</th>\n",
              "      <td>1.35</td>\n",
              "      <td>Sharedpreferences</td>\n",
              "      <td>Small</td>\n",
              "    </tr>\n",
              "    <tr>\n",
              "      <th>2</th>\n",
              "      <td>1.84</td>\n",
              "      <td>Sharedpreferences</td>\n",
              "      <td>Small</td>\n",
              "    </tr>\n",
              "    <tr>\n",
              "      <th>3</th>\n",
              "      <td>1.54</td>\n",
              "      <td>Sharedpreferences</td>\n",
              "      <td>Small</td>\n",
              "    </tr>\n",
              "    <tr>\n",
              "      <th>4</th>\n",
              "      <td>1.81</td>\n",
              "      <td>Sharedpreferences</td>\n",
              "      <td>Small</td>\n",
              "    </tr>\n",
              "  </tbody>\n",
              "</table>\n",
              "</div>"
            ],
            "text/plain": [
              "   Time    PersistenceType DataSize\n",
              "0  1.81  Sharedpreferences    Small\n",
              "1  1.35  Sharedpreferences    Small\n",
              "2  1.84  Sharedpreferences    Small\n",
              "3  1.54  Sharedpreferences    Small\n",
              "4  1.81  Sharedpreferences    Small"
            ]
          },
          "execution_count": 23,
          "metadata": {},
          "output_type": "execute_result"
        }
      ],
      "source": [
        "androids = pd.read_csv('https://raw.githubusercontent.com/JelleLeus1996/data_science/main/data/android_persistence_cpu.csv', sep=';')\n",
        "androids.head()"
      ]
    },
    {
      "cell_type": "code",
      "execution_count": 24,
      "metadata": {},
      "outputs": [
        {
          "data": {
            "text/plain": [
              "array(['Sharedpreferences', 'GreenDAO', 'SQLLite', 'Realm'], dtype=object)"
            ]
          },
          "execution_count": 24,
          "metadata": {},
          "output_type": "execute_result"
        }
      ],
      "source": [
        "androids.PersistenceType.unique()"
      ]
    },
    {
      "cell_type": "code",
      "execution_count": 31,
      "metadata": {},
      "outputs": [
        {
          "name": "stdout",
          "output_type": "stream",
          "text": [
            "mean of Sharedpreferences is : 1.6736666666666666\n",
            "mean of GreenDAO is : 1.893666666666667\n",
            "mean of SQLLite is : 1.799\n",
            "mean of Realm is : 1.5989999999999998\n",
            "1.5989999999999998\n",
            "0.8300958070926483\n",
            "mean of Sharedpreferences is : nan\n",
            "mean of GreenDAO is : 7.4540000000000015\n",
            "mean of SQLLite is : 7.794\n",
            "mean of Realm is : 5.818000000000001\n",
            "5.818000000000001\n",
            "0.9997745724280098\n",
            "mean of Sharedpreferences is : nan\n",
            "mean of GreenDAO is : 12.110333333333333\n",
            "mean of SQLLite is : 11.514999999999995\n",
            "mean of Realm is : 10.651666666666667\n",
            "10.651666666666667\n"
          ]
        }
      ],
      "source": [
        "shared_mean_small = androids[(androids.PersistenceType == 'Sharedpreferences') & (androids.DataSize == 'Small')].Time.mean()\n",
        "greenDAO_mean_small = androids[(androids.PersistenceType == 'GreenDAO')& (androids.DataSize == 'Small')].Time.mean()\n",
        "SQLLite_means_small = androids[(androids.PersistenceType == 'SQLLite')& (androids.DataSize == 'Small')].Time.mean()\n",
        "realm_mean_small = androids[(androids.PersistenceType == 'Realm')& (androids.DataSize == 'Small')].Time.mean()\n",
        "print(f'mean of Sharedpreferences is : {shared_mean_small}')\n",
        "print(f'mean of GreenDAO is : {greenDAO_mean_small}')\n",
        "print(f'mean of SQLLite is : {SQLLite_means_small}')\n",
        "print(f'mean of Realm is : {realm_mean_small}')\n",
        "small_mean = [shared_mean_small,greenDAO_mean_small,SQLLite_means_small,realm_mean_small]\n",
        "print(min(small_mean))\n",
        "test_statistiek, p_value = stats.ttest_ind(a=androids[(androids.PersistenceType == 'Sharedpreferences')& (androids.DataSize == 'Small')].Time,\n",
        "                                           b=androids[(androids.PersistenceType == 'Realm')& (androids.DataSize == 'Small')].Time, alternative=\"less\")\n",
        "print(p_value)\n",
        "shared_mean_medium = androids[(androids.PersistenceType == 'Sharedpreferences') & (androids.DataSize == 'Medium')].Time.mean()\n",
        "greenDAO_mean_medium = androids[(androids.PersistenceType == 'GreenDAO')& (androids.DataSize == 'Medium')].Time.mean()\n",
        "SQLLite_means_medium = androids[(androids.PersistenceType == 'SQLLite')& (androids.DataSize == 'Medium')].Time.mean()\n",
        "realm_mean_medium = androids[(androids.PersistenceType == 'Realm')& (androids.DataSize == 'Medium')].Time.mean()\n",
        "print(f'mean of Sharedpreferences is : {shared_mean_medium}')\n",
        "print(f'mean of GreenDAO is : {greenDAO_mean_medium}')\n",
        "print(f'mean of SQLLite is : {SQLLite_means_medium}')\n",
        "print(f'mean of Realm is : {realm_mean_medium}')\n",
        "medium_mean = [shared_mean_medium,greenDAO_mean_medium,SQLLite_means_medium,realm_mean_medium]\n",
        "filtered_medium_list = [x for x in medium_mean if not pd.isna(x)]\n",
        "print(min(filtered_medium_list))\n",
        "test_statistiek, p_value = stats.ttest_ind(a=androids[(androids.PersistenceType == 'GreenDAO')& (androids.DataSize == 'Medium')].Time,\n",
        "                                           b=androids[(androids.PersistenceType == 'Realm')& (androids.DataSize == 'Medium')].Time, alternative=\"less\")\n",
        "print(p_value)\n",
        "\n",
        "shared_mean = androids[(androids.PersistenceType == 'Sharedpreferences') & (androids.DataSize == 'Large')].Time.mean()\n",
        "greenDAO_mean = androids[(androids.PersistenceType == 'GreenDAO')& (androids.DataSize == 'Large')].Time.mean()\n",
        "SQLLite_mean = androids[(androids.PersistenceType == 'SQLLite')& (androids.DataSize == 'Large')].Time.mean()\n",
        "realm_mean = androids[(androids.PersistenceType == 'Realm')& (androids.DataSize == 'Large')].Time.mean()\n",
        "print(f'mean of Sharedpreferences is : {shared_mean}')\n",
        "print(f'mean of GreenDAO is : {greenDAO_mean}')\n",
        "print(f'mean of SQLLite is : {SQLLite_mean}')\n",
        "print(f'mean of Realm is : {realm_mean}')\n",
        "large_mean = [shared_mean,greenDAO_mean,SQLLite_mean,realm_mean]\n",
        "filtered_large_list = [x for x in large_mean if not pd.isna(x)]\n",
        "print(min(filtered_large_list))"
      ]
    },
    {
      "cell_type": "markdown",
      "metadata": {},
      "source": [
        "### Answers\n",
        "\n",
        "The table below provides an overview of the best and second best persistence type for each data size (based on the sample mean).\n",
        "\n",
        "| Data Size | Best  | 2nd Best          | p-value   |\n",
        "| :-------- | :---- | :---------------- | :-------- |\n",
        "| Small     | Realm | SharedPreferences | 0.1699    |\n",
        "| Medium    | Realm | GreenDAO          | 0.0002506 |\n",
        "| Large     | Realm | SQLite            | 0.0017    |\n",
        "\n",
        "The conclusion of Akin (2016), which states that Realm is the most efficient persistence type, still holds, but for the small data sets the difference is not significant.\n",
        "\n",
        "Note that we have not explicitly selected a specific significance level in advance. However, for $\\alpha$ = 0.1, 0.05 or even 0.01, the same conclusion can be drawn."
      ]
    }
  ],
  "metadata": {
    "colab": {
      "provenance": []
    },
    "kernelspec": {
      "display_name": "Python 3",
      "name": "python3"
    },
    "language_info": {
      "codemirror_mode": {
        "name": "ipython",
        "version": 3
      },
      "file_extension": ".py",
      "mimetype": "text/x-python",
      "name": "python",
      "nbconvert_exporter": "python",
      "pygments_lexer": "ipython3",
      "version": "3.10.13"
    }
  },
  "nbformat": 4,
  "nbformat_minor": 0
}
