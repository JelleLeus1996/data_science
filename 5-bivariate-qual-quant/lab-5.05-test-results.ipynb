{
  "cells": [
    {
      "cell_type": "markdown",
      "metadata": {
        "id": "RzEWLSEPt30W"
      },
      "source": [
        "# Lab 5.05 - Two-sample t-test"
      ]
    },
    {
      "cell_type": "code",
      "execution_count": 1,
      "metadata": {
        "id": "QnEzGI2its2h"
      },
      "outputs": [
        {
          "name": "stderr",
          "output_type": "stream",
          "text": [
            "/tmp/ipykernel_16346/3582612194.py:5: DeprecationWarning: \n",
            "Pyarrow will become a required dependency of pandas in the next major release of pandas (pandas 3.0),\n",
            "(to allow more performant data types, such as the Arrow string type, and better interoperability with other libraries)\n",
            "but was not found to be installed on your system.\n",
            "If this would cause problems for you,\n",
            "please provide us feedback at https://github.com/pandas-dev/pandas/issues/54466\n",
            "        \n",
            "  import pandas as pd                                 # Dataframe\n"
          ]
        }
      ],
      "source": [
        "# Package imports\n",
        "import numpy as np                                  # \"Scientific computing\"\n",
        "import scipy.stats as stats                         # Statistical tests\n",
        "\n",
        "import pandas as pd                                 # Dataframe\n",
        "import matplotlib.pyplot as plt                     # Basic visualisation\n",
        "from statsmodels.graphics.mosaicplot import mosaic  # Mosaic plot\n",
        "import seaborn as sns                               # Advanced dataviz"
      ]
    },
    {
      "cell_type": "markdown",
      "metadata": {},
      "source": [
        "## Exercise 5 - Comparing test results between groups\n",
        "\n",
        "A large number of students participated in a test that was organized in several successive sessions. Because creating a separate test for each session was practically unfeasible, the same questions were used in each session. Consequently, there is a danger that students could pass on information about the test to the groups that still had to come after. Later groups then have an advantage over the first. However, this also evident from the test scores?\n",
        "\n",
        "The file `test-results.csv` contains all results of the test. The score is a floating point number with maximum 40. If the score field is empty, this indicates a student that was absent. Each session is identified by a letter, in the order of the consecutive sessions.\n",
        "\n",
        "- Day 1: sessions A, B\n",
        "- Day 2: sessions C, D, E\n",
        "- Day 3: sessions F, G, H\n",
        "\n",
        "Sessions A and B were conducted on a different campus, so it could be assumed that there is little to no communication with students from other sessions.\n",
        "\n",
        "If information was passed on successfully, we expect the scores of later groups to be significantly better than the first.\n",
        "\n",
        "**Note** that the reverse reasoning does not necessarily hold: if it turns out that the result of later sessions is indeed significantly better, this does not necessarily mean that the (only) cause is passing on of information. There may also be other causes (e.g. “weaker” class groups happen to be scheduled earlier).\n",
        "\n",
        "1. Explore the data. Calculate the appropriate measures for central tendency and dispersion for the full dataset and for each session individually.\n",
        "2. Plot a bar graph of the average score per session with error bars denoting one standard deviation.\n",
        "3. Make a box plot of the scores divided per group. Compare the sessions listed below. Do you think there is a significant difference between the results? Can we suspect that information has been passed on?\n",
        "    - A and B\n",
        "    - C, D and E\n",
        "    - F, G and H\n",
        "    - C and H\n",
        "    - A and H\n",
        "4. Use an appropriate statistical test to determine whether the differences between the groups listed above are also *significant*. Can we conclude that the later groups score better or not?"
      ]
    },
    {
      "cell_type": "markdown",
      "metadata": {},
      "source": [
        "### Answers\n",
        "\n",
        "The average score in each session was:\n",
        "\n",
        "| Session | Average score |\n",
        "| :-----: | :------------ |\n",
        "|    A    | 13.1          |\n",
        "|    B    | 17.2          |\n",
        "|    C    | 18.8          |\n",
        "|    D    | 22.5          |\n",
        "|    E    | 18.9          |\n",
        "|    F    | 17.8          |\n",
        "|    G    | 18.7          |\n",
        "|    H    | 20.9          |\n",
        "\n",
        "The table below shows the p-value of a one-sided t-test of two samples between the given sessions:\n",
        "\n",
        "| Alt. hypothesis                       | p-value   |\n",
        "| :------------------------------------ | :-------- |\n",
        "| $\\overline{x}_A - \\overline{x}_B < 0$ | 0.05356   |\n",
        "| $\\overline{x}_C - \\overline{x}_D < 0$ | 0.01343   |\n",
        "| $\\overline{x}_E - \\overline{x}_D < 0$ | 0.02356   |\n",
        "| $\\overline{x}_F - \\overline{x}_H < 0$ | 0.05767   |\n",
        "| $\\overline{x}_G - \\overline{x}_H < 0$ | 0.1156    |\n",
        "| $\\overline{x}_C - \\overline{x}_H < 0$ | 0.1463    |\n",
        "| $\\overline{x}_A - \\overline{x}_H < 0$ | 0.0003289 |\n",
        "\n",
        "Remarks:\n",
        "\n",
        "- The difference between **session A and B**, although it seems quite large, is insignificant for $\\alpha = 0.05$\n",
        "- **Sessions C, D and E**:\n",
        "  - Session D had the highest score. Sessions C and E had similar results, at least the average score was similar.\n",
        "  - Session D has a significantly higher score than either sessions C and E. However, session E came _after_ D, so the cause is definitely not the passing of information.\n",
        "- The differences between **sessions F, G and H** insignificant\n",
        "- **Sessions C and H** are respectively the first and the last session on the same campus. So, if there is an opportunity to pass on information about the test, there's definitely enough time between these two sessions. However, the difference is not significant!\n",
        "- The difference between **sessions A and H** are significant, but since they took place on different campuses, it is questionable that this difference is caused by passing on information."
      ]
    },
    {
      "cell_type": "code",
      "execution_count": 3,
      "metadata": {},
      "outputs": [
        {
          "data": {
            "text/html": [
              "<div>\n",
              "<style scoped>\n",
              "    .dataframe tbody tr th:only-of-type {\n",
              "        vertical-align: middle;\n",
              "    }\n",
              "\n",
              "    .dataframe tbody tr th {\n",
              "        vertical-align: top;\n",
              "    }\n",
              "\n",
              "    .dataframe thead th {\n",
              "        text-align: right;\n",
              "    }\n",
              "</style>\n",
              "<table border=\"1\" class=\"dataframe\">\n",
              "  <thead>\n",
              "    <tr style=\"text-align: right;\">\n",
              "      <th></th>\n",
              "      <th>Session</th>\n",
              "      <th>Score</th>\n",
              "    </tr>\n",
              "  </thead>\n",
              "  <tbody>\n",
              "    <tr>\n",
              "      <th>0</th>\n",
              "      <td>A</td>\n",
              "      <td>12.5</td>\n",
              "    </tr>\n",
              "    <tr>\n",
              "      <th>1</th>\n",
              "      <td>A</td>\n",
              "      <td>7.5</td>\n",
              "    </tr>\n",
              "    <tr>\n",
              "      <th>2</th>\n",
              "      <td>A</td>\n",
              "      <td>NaN</td>\n",
              "    </tr>\n",
              "    <tr>\n",
              "      <th>3</th>\n",
              "      <td>A</td>\n",
              "      <td>21.0</td>\n",
              "    </tr>\n",
              "    <tr>\n",
              "      <th>4</th>\n",
              "      <td>A</td>\n",
              "      <td>10.0</td>\n",
              "    </tr>\n",
              "  </tbody>\n",
              "</table>\n",
              "</div>"
            ],
            "text/plain": [
              "  Session  Score\n",
              "0       A   12.5\n",
              "1       A    7.5\n",
              "2       A    NaN\n",
              "3       A   21.0\n",
              "4       A   10.0"
            ]
          },
          "execution_count": 3,
          "metadata": {},
          "output_type": "execute_result"
        }
      ],
      "source": [
        "df = pd.read_csv('https://raw.githubusercontent.com/JelleLeus1996/data_science/main/data/test-results.csv')\n",
        "df.head()"
      ]
    },
    {
      "cell_type": "code",
      "execution_count": 4,
      "metadata": {},
      "outputs": [
        {
          "data": {
            "text/html": [
              "<div>\n",
              "<style scoped>\n",
              "    .dataframe tbody tr th:only-of-type {\n",
              "        vertical-align: middle;\n",
              "    }\n",
              "\n",
              "    .dataframe tbody tr th {\n",
              "        vertical-align: top;\n",
              "    }\n",
              "\n",
              "    .dataframe thead th {\n",
              "        text-align: right;\n",
              "    }\n",
              "</style>\n",
              "<table border=\"1\" class=\"dataframe\">\n",
              "  <thead>\n",
              "    <tr style=\"text-align: right;\">\n",
              "      <th></th>\n",
              "      <th>Session</th>\n",
              "      <th>Score</th>\n",
              "    </tr>\n",
              "  </thead>\n",
              "  <tbody>\n",
              "    <tr>\n",
              "      <th>0</th>\n",
              "      <td>A</td>\n",
              "      <td>12.5</td>\n",
              "    </tr>\n",
              "    <tr>\n",
              "      <th>1</th>\n",
              "      <td>A</td>\n",
              "      <td>7.5</td>\n",
              "    </tr>\n",
              "    <tr>\n",
              "      <th>3</th>\n",
              "      <td>A</td>\n",
              "      <td>21.0</td>\n",
              "    </tr>\n",
              "    <tr>\n",
              "      <th>4</th>\n",
              "      <td>A</td>\n",
              "      <td>10.0</td>\n",
              "    </tr>\n",
              "    <tr>\n",
              "      <th>5</th>\n",
              "      <td>A</td>\n",
              "      <td>20.5</td>\n",
              "    </tr>\n",
              "  </tbody>\n",
              "</table>\n",
              "</div>"
            ],
            "text/plain": [
              "  Session  Score\n",
              "0       A   12.5\n",
              "1       A    7.5\n",
              "3       A   21.0\n",
              "4       A   10.0\n",
              "5       A   20.5"
            ]
          },
          "execution_count": 4,
          "metadata": {},
          "output_type": "execute_result"
        }
      ],
      "source": [
        "#records zonder score NaN schrappen\n",
        "df = df.dropna()\n",
        "df.head()"
      ]
    },
    {
      "cell_type": "code",
      "execution_count": 5,
      "metadata": {},
      "outputs": [
        {
          "data": {
            "text/html": [
              "<div>\n",
              "<style scoped>\n",
              "    .dataframe tbody tr th:only-of-type {\n",
              "        vertical-align: middle;\n",
              "    }\n",
              "\n",
              "    .dataframe tbody tr th {\n",
              "        vertical-align: top;\n",
              "    }\n",
              "\n",
              "    .dataframe thead th {\n",
              "        text-align: right;\n",
              "    }\n",
              "</style>\n",
              "<table border=\"1\" class=\"dataframe\">\n",
              "  <thead>\n",
              "    <tr style=\"text-align: right;\">\n",
              "      <th></th>\n",
              "      <th>Score</th>\n",
              "    </tr>\n",
              "  </thead>\n",
              "  <tbody>\n",
              "    <tr>\n",
              "      <th>count</th>\n",
              "      <td>195.000000</td>\n",
              "    </tr>\n",
              "    <tr>\n",
              "      <th>mean</th>\n",
              "      <td>18.788974</td>\n",
              "    </tr>\n",
              "    <tr>\n",
              "      <th>std</th>\n",
              "      <td>7.014017</td>\n",
              "    </tr>\n",
              "    <tr>\n",
              "      <th>min</th>\n",
              "      <td>0.000000</td>\n",
              "    </tr>\n",
              "    <tr>\n",
              "      <th>25%</th>\n",
              "      <td>13.250000</td>\n",
              "    </tr>\n",
              "    <tr>\n",
              "      <th>50%</th>\n",
              "      <td>19.000000</td>\n",
              "    </tr>\n",
              "    <tr>\n",
              "      <th>75%</th>\n",
              "      <td>24.500000</td>\n",
              "    </tr>\n",
              "    <tr>\n",
              "      <th>max</th>\n",
              "      <td>34.500000</td>\n",
              "    </tr>\n",
              "  </tbody>\n",
              "</table>\n",
              "</div>"
            ],
            "text/plain": [
              "            Score\n",
              "count  195.000000\n",
              "mean    18.788974\n",
              "std      7.014017\n",
              "min      0.000000\n",
              "25%     13.250000\n",
              "50%     19.000000\n",
              "75%     24.500000\n",
              "max     34.500000"
            ]
          },
          "execution_count": 5,
          "metadata": {},
          "output_type": "execute_result"
        }
      ],
      "source": [
        "df.describe()"
      ]
    },
    {
      "cell_type": "code",
      "execution_count": 6,
      "metadata": {},
      "outputs": [
        {
          "data": {
            "text/html": [
              "<div>\n",
              "<style scoped>\n",
              "    .dataframe tbody tr th:only-of-type {\n",
              "        vertical-align: middle;\n",
              "    }\n",
              "\n",
              "    .dataframe tbody tr th {\n",
              "        vertical-align: top;\n",
              "    }\n",
              "\n",
              "    .dataframe thead th {\n",
              "        text-align: right;\n",
              "    }\n",
              "</style>\n",
              "<table border=\"1\" class=\"dataframe\">\n",
              "  <thead>\n",
              "    <tr style=\"text-align: right;\">\n",
              "      <th></th>\n",
              "      <th>count</th>\n",
              "      <th>mean</th>\n",
              "      <th>std</th>\n",
              "      <th>min</th>\n",
              "      <th>25%</th>\n",
              "      <th>50%</th>\n",
              "      <th>75%</th>\n",
              "      <th>max</th>\n",
              "    </tr>\n",
              "    <tr>\n",
              "      <th>Session</th>\n",
              "      <th></th>\n",
              "      <th></th>\n",
              "      <th></th>\n",
              "      <th></th>\n",
              "      <th></th>\n",
              "      <th></th>\n",
              "      <th></th>\n",
              "      <th></th>\n",
              "    </tr>\n",
              "  </thead>\n",
              "  <tbody>\n",
              "    <tr>\n",
              "      <th>A</th>\n",
              "      <td>17.0</td>\n",
              "      <td>13.117647</td>\n",
              "      <td>6.040306</td>\n",
              "      <td>4.0</td>\n",
              "      <td>8.000</td>\n",
              "      <td>12.500</td>\n",
              "      <td>17.000</td>\n",
              "      <td>26.50</td>\n",
              "    </tr>\n",
              "    <tr>\n",
              "      <th>B</th>\n",
              "      <td>21.0</td>\n",
              "      <td>17.214286</td>\n",
              "      <td>9.150917</td>\n",
              "      <td>1.0</td>\n",
              "      <td>10.000</td>\n",
              "      <td>14.500</td>\n",
              "      <td>26.500</td>\n",
              "      <td>31.50</td>\n",
              "    </tr>\n",
              "    <tr>\n",
              "      <th>C</th>\n",
              "      <td>25.0</td>\n",
              "      <td>18.800000</td>\n",
              "      <td>6.539941</td>\n",
              "      <td>10.0</td>\n",
              "      <td>13.000</td>\n",
              "      <td>18.500</td>\n",
              "      <td>22.000</td>\n",
              "      <td>34.50</td>\n",
              "    </tr>\n",
              "    <tr>\n",
              "      <th>D</th>\n",
              "      <td>26.0</td>\n",
              "      <td>22.451923</td>\n",
              "      <td>4.641670</td>\n",
              "      <td>13.0</td>\n",
              "      <td>19.125</td>\n",
              "      <td>22.125</td>\n",
              "      <td>25.750</td>\n",
              "      <td>30.50</td>\n",
              "    </tr>\n",
              "    <tr>\n",
              "      <th>E</th>\n",
              "      <td>22.0</td>\n",
              "      <td>18.852273</td>\n",
              "      <td>7.010052</td>\n",
              "      <td>0.0</td>\n",
              "      <td>16.375</td>\n",
              "      <td>19.250</td>\n",
              "      <td>21.375</td>\n",
              "      <td>30.75</td>\n",
              "    </tr>\n",
              "    <tr>\n",
              "      <th>F</th>\n",
              "      <td>27.0</td>\n",
              "      <td>17.814815</td>\n",
              "      <td>6.274028</td>\n",
              "      <td>6.5</td>\n",
              "      <td>12.875</td>\n",
              "      <td>17.500</td>\n",
              "      <td>22.000</td>\n",
              "      <td>32.00</td>\n",
              "    </tr>\n",
              "    <tr>\n",
              "      <th>G</th>\n",
              "      <td>29.0</td>\n",
              "      <td>18.736207</td>\n",
              "      <td>5.261126</td>\n",
              "      <td>10.0</td>\n",
              "      <td>16.500</td>\n",
              "      <td>18.750</td>\n",
              "      <td>23.000</td>\n",
              "      <td>27.75</td>\n",
              "    </tr>\n",
              "    <tr>\n",
              "      <th>H</th>\n",
              "      <td>28.0</td>\n",
              "      <td>20.946429</td>\n",
              "      <td>8.133537</td>\n",
              "      <td>3.0</td>\n",
              "      <td>15.750</td>\n",
              "      <td>22.000</td>\n",
              "      <td>26.625</td>\n",
              "      <td>34.50</td>\n",
              "    </tr>\n",
              "  </tbody>\n",
              "</table>\n",
              "</div>"
            ],
            "text/plain": [
              "         count       mean       std   min     25%     50%     75%    max\n",
              "Session                                                                 \n",
              "A         17.0  13.117647  6.040306   4.0   8.000  12.500  17.000  26.50\n",
              "B         21.0  17.214286  9.150917   1.0  10.000  14.500  26.500  31.50\n",
              "C         25.0  18.800000  6.539941  10.0  13.000  18.500  22.000  34.50\n",
              "D         26.0  22.451923  4.641670  13.0  19.125  22.125  25.750  30.50\n",
              "E         22.0  18.852273  7.010052   0.0  16.375  19.250  21.375  30.75\n",
              "F         27.0  17.814815  6.274028   6.5  12.875  17.500  22.000  32.00\n",
              "G         29.0  18.736207  5.261126  10.0  16.500  18.750  23.000  27.75\n",
              "H         28.0  20.946429  8.133537   3.0  15.750  22.000  26.625  34.50"
            ]
          },
          "execution_count": 6,
          "metadata": {},
          "output_type": "execute_result"
        }
      ],
      "source": [
        "#Beschrijving per groep (per sessie)\n",
        "df.groupby('Session')['Score'].describe()"
      ]
    },
    {
      "cell_type": "code",
      "execution_count": 7,
      "metadata": {},
      "outputs": [
        {
          "data": {
            "text/plain": [
              "<Axes: xlabel='Score', ylabel='Session'>"
            ]
          },
          "execution_count": 7,
          "metadata": {},
          "output_type": "execute_result"
        },
        {
          "data": {
            "image/png": "[encoded data removed]",
            "text/plain": [
              "<Figure size 640x480 with 1 Axes>"
            ]
          },
          "metadata": {},
          "output_type": "display_data"
        }
      ],
      "source": [
        "sns.boxplot(data=df, y='Session',x='Score', hue='Session')"
      ]
    },
    {
      "cell_type": "markdown",
      "metadata": {},
      "source": [
        "We kunnen 2 willekeurige groepen er uit nemen en vergelijken met elkaar bijv. A & F vergelijken\n",
        "\n",
        "The hypotheses are:\n",
        "\n",
        "- $H_0$: $\\mu_1 - \\mu_2 = 0$ (Score is the same in both groups (A & F))\n",
        "- $H_1$: $\\mu_1 - \\mu_2 < 0$ (Score is significantly higher in group F compared to the group A)\n",
        "\n",
        "De hypotheses zijn bepaald o.b.v. de boxplot en ook o.b.v. de describe per sessie."
      ]
    },
    {
      "cell_type": "code",
      "execution_count": 9,
      "metadata": {},
      "outputs": [
        {
          "data": {
            "text/plain": [
              "0.009162997959891738"
            ]
          },
          "execution_count": 9,
          "metadata": {},
          "output_type": "execute_result"
        }
      ],
      "source": [
        "#We gebruiken de independant t-test (want elke sessie heeft zijn eigen mensen)\n",
        "test_statistiek, p_value = stats.ttest_ind(a=df[df['Session']=='A']['Score'],\n",
        "                                            b=df[df['Session']=='F']['Score'],\n",
        "    alternative='less', equal_var=False)\n",
        "p_value"
      ]
    },
    {
      "cell_type": "markdown",
      "metadata": {},
      "source": [
        "# Conclusie\n",
        "\n",
        "p_value < 0.05 => Er is voldoende reden om H0 te verwerpen\n",
        "=> score is significant hoger bij groep F dan bij groep A"
      ]
    },
    {
      "cell_type": "markdown",
      "metadata": {},
      "source": [
        "We kunnen 2 willekeurige groepen er uit nemen en vergelijken met elkaar bijv. E & F vergelijken\n",
        "\n",
        "The hypotheses are:\n",
        "\n",
        "- $H_0$: $\\mu_1 - \\mu_2 = 0$ (Score is the same in both groups (E & F))\n",
        "- $H_1$: $\\mu_1 - \\mu_2 > 0$ (Score is significantly higher in group E compared to the group F)\n",
        "\n",
        "De hypotheses zijn bepaald o.b.v. de boxplot en ook o.b.v. de describe per sessie (de mean)"
      ]
    },
    {
      "cell_type": "code",
      "execution_count": 10,
      "metadata": {},
      "outputs": [
        {
          "data": {
            "text/plain": [
              "0.296014468502622"
            ]
          },
          "execution_count": 10,
          "metadata": {},
          "output_type": "execute_result"
        }
      ],
      "source": [
        "#We gebruiken de independant t-test (want elke sessie heeft zijn eigen mensen)\n",
        "#Aanpassing van alternative van less naar greater\n",
        "test_statistiek, p_value = stats.ttest_ind(a=df[df['Session']=='E']['Score'],\n",
        "                                            b=df[df['Session']=='F']['Score'],\n",
        "    alternative='greater', equal_var=False)\n",
        "p_value"
      ]
    },
    {
      "cell_type": "markdown",
      "metadata": {},
      "source": [
        "# Conclusie\n",
        "\n",
        "p_value > 0.05 => Er is onvoldoende reden om H0 te verwerpen\n",
        "=> score in groep E is niet significant hoger dan de score in groep F"
      ]
    }
  ],
  "metadata": {
    "colab": {
      "provenance": []
    },
    "kernelspec": {
      "display_name": "Python 3",
      "name": "python3"
    },
    "language_info": {
      "codemirror_mode": {
        "name": "ipython",
        "version": 3
      },
      "file_extension": ".py",
      "mimetype": "text/x-python",
      "name": "python",
      "nbconvert_exporter": "python",
      "pygments_lexer": "ipython3",
      "version": "3.10.13"
    }
  },
  "nbformat": 4,
  "nbformat_minor": 0
}
