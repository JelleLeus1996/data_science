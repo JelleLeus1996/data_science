{
  "cells": [
    {
      "cell_type": "markdown",
      "metadata": {
        "id": "xDBTRYzLSeM_"
      },
      "source": [
        "# Lab 4.04 - Bivariate Analysis of Qualitative Data"
      ]
    },
    {
      "cell_type": "code",
      "execution_count": 1,
      "metadata": {
        "id": "j8I-eUfMSeNF"
      },
      "outputs": [
        {
          "name": "stderr",
          "output_type": "stream",
          "text": [
            "/tmp/ipykernel_6824/48876594.py:5: DeprecationWarning: \n",
            "Pyarrow will become a required dependency of pandas in the next major release of pandas (pandas 3.0),\n",
            "(to allow more performant data types, such as the Arrow string type, and better interoperability with other libraries)\n",
            "but was not found to be installed on your system.\n",
            "If this would cause problems for you,\n",
            "please provide us feedback at https://github.com/pandas-dev/pandas/issues/54466\n",
            "        \n",
            "  import pandas as pd                                 # Data Frame\n"
          ]
        }
      ],
      "source": [
        "# Importing the necessary packages\n",
        "import numpy as np                                  # \"Scientific computing\"\n",
        "import scipy.stats as stats                         # Statistical tests\n",
        "\n",
        "import pandas as pd                                 # Data Frame\n",
        "from pandas.api.types import CategoricalDtype\n",
        "\n",
        "import matplotlib.pyplot as plt                     # Basic visualisation\n",
        "from statsmodels.graphics.mosaicplot import mosaic  # Mosaic diagram\n",
        "import seaborn as sns                               # Advanced data visualisation"
      ]
    },
    {
      "cell_type": "markdown",
      "metadata": {
        "id": "vN3yNSGKq2c5"
      },
      "source": [
        "## Exercise 4 - Golf balls\n",
        "\n",
        "Callaway is thinking about entering the golf ball market. The company will make a profit if its market share is more than 20%. A market survey indicates that 140\n",
        "of 624 golf ball purchasers will buy a Callaway golf ball.\n",
        "\n",
        "Is this enough evidence to persuade Callaway to enter the golf ball market?\n",
        "\n",
        "Results of the main calculations\n",
        "\n",
        "- χ² = 2.3141\n",
        "- p-value  p = 0.1282"
      ]
    },
    {
      "cell_type": "code",
      "execution_count": 6,
      "metadata": {},
      "outputs": [
        {
          "name": "stdout",
          "output_type": "stream",
          "text": [
            "2.314102564102564\n",
            "0.12820527503039164\n"
          ]
        }
      ],
      "source": [
        "observed= np.array([140,484])\n",
        "expected=np.array([0.2,0.8])\n",
        "n = 624\n",
        "expected_values = expected * n\n",
        "k = len(observed)\n",
        "dof = k - 1 \n",
        "chi2, p = stats.chisquare(f_obs=observed, f_exp=expected_values)\n",
        "print(chi2)\n",
        "print(p)"
      ]
    },
    {
      "cell_type": "code",
      "execution_count": 2,
      "metadata": {
        "id": "Jz2IYSgQr_JY"
      },
      "outputs": [
        {
          "name": "stdout",
          "output_type": "stream",
          "text": [
            "Significance level  ⍺ = 0.05\n",
            "Sample size         n = 624\n",
            "k = 2; df = 1\n",
            "Chi-squared        χ² = 2.3141\n",
            "Critical value      g = 3.8415\n",
            "p-value             p = 0.1282\n"
          ]
        }
      ],
      "source": [
        "\n",
        "# ZELF GEMAAKT\n",
        "# We know the distribution of the population (5.7%) & we know the real distribution of the teachers\n",
        "# We will use the goodness of fit test. Is the sample representative for the populiation\n",
        "observed =   np.array([140,484])\n",
        "expected_p = np.array([0.2,0.8])\n",
        "alpha = 0.05               # Significance level\n",
        "n = 624                     # Sample size\n",
        "k = len(observed)\n",
        "dof = k - 1                # Degrees of freedom\n",
        "expected = expected_p * n  # Expected absolute frequencies in the sample; Procentuele verwachte waarden * aantal elementen\n",
        "g = stats.chi2.isf(alpha, df=dof)  # Critical value ; Liggen de verwachte waarden dicht genoeg bij de effectieve waarden\n",
        "\n",
        "# Goodness-of-fit-test in Python:\n",
        "chi2, p = stats.chisquare(f_obs=observed, f_exp=expected)\n",
        "\n",
        "print(\"Significance level  ⍺ = %.2f\" % alpha)\n",
        "print(\"Sample size         n = %d\" % n)\n",
        "print(\"k = %d; df = %d\" % (k, dof))\n",
        "print(\"Chi-squared        χ² = %.4f\" % chi2)\n",
        "print(\"Critical value      g = %.4f\" % g)\n",
        "print(\"p-value             p = %.4f\" % p)"
      ]
    },
    {
      "cell_type": "code",
      "execution_count": null,
      "metadata": {
        "id": "wfNU9VTyLYAy"
      },
      "outputs": [],
      "source": [
        "# Conclusie\n",
        "# p-waarde 12.82% > 5% of chi-kwadraat < g (critical value) => Er is niet voldoende reden om H0 te verwerpen.\n",
        "# Dus er is voldoende reden om te stellen dat Collaway geen 20% zou halen \n",
        "# Een p-waarde van 12.82% is wel  weinig wat wil zeggen dat het bijna niet representatief is.\n"
      ]
    },
    {
      "cell_type": "code",
      "execution_count": 3,
      "metadata": {
        "id": "mM3npU4_MDFK"
      },
      "outputs": [
        {
          "data": {
            "text/plain": [
              "array([ 1.52121746, -1.52121746])"
            ]
          },
          "execution_count": 3,
          "metadata": {},
          "output_type": "execute_result"
        }
      ],
      "source": [
        "(observed - expected) / np.sqrt(expected * (1 - expected_p))\n",
        "# Zit nog tussen -2 en 2 en dus nog representatief"
      ]
    }
  ],
  "metadata": {
    "colab": {
      "provenance": []
    },
    "interpreter": {
      "hash": "e7370f93d1d0cde622a1f8e1c04877d8463912d04d973331ad4851f04de6915a"
    },
    "kernelspec": {
      "display_name": "Python 3.10.0 64-bit",
      "language": "python",
      "name": "python3"
    },
    "language_info": {
      "codemirror_mode": {
        "name": "ipython",
        "version": 3
      },
      "file_extension": ".py",
      "mimetype": "text/x-python",
      "name": "python",
      "nbconvert_exporter": "python",
      "pygments_lexer": "ipython3",
      "version": "3.10.13"
    },
    "orig_nbformat": 4
  },
  "nbformat": 4,
  "nbformat_minor": 0
}
