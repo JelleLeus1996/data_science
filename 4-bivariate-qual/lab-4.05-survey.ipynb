{
  "cells": [
    {
      "cell_type": "markdown",
      "metadata": {
        "id": "xDBTRYzLSeM_"
      },
      "source": [
        "# Lab 4.05 - Bivariate Analysis of Qualitative Data\n"
      ]
    },
    {
      "cell_type": "code",
      "execution_count": 1,
      "metadata": {
        "id": "j8I-eUfMSeNF"
      },
      "outputs": [
        {
          "name": "stderr",
          "output_type": "stream",
          "text": [
            "/tmp/ipykernel_26568/48876594.py:5: DeprecationWarning: \n",
            "Pyarrow will become a required dependency of pandas in the next major release of pandas (pandas 3.0),\n",
            "(to allow more performant data types, such as the Arrow string type, and better interoperability with other libraries)\n",
            "but was not found to be installed on your system.\n",
            "If this would cause problems for you,\n",
            "please provide us feedback at https://github.com/pandas-dev/pandas/issues/54466\n",
            "        \n",
            "  import pandas as pd                                 # Data Frame\n"
          ]
        }
      ],
      "source": [
        "# Importing the necessary packages\n",
        "import numpy as np                                  # \"Scientific computing\"\n",
        "import scipy.stats as stats                         # Statistical tests\n",
        "\n",
        "import pandas as pd                                 # Data Frame\n",
        "from pandas.api.types import CategoricalDtype\n",
        "\n",
        "import matplotlib.pyplot as plt                     # Basic visualisation\n",
        "from statsmodels.graphics.mosaicplot import mosaic  # Mosaic diagram\n",
        "import seaborn as sns                               # Advanced data visualisation"
      ]
    },
    {
      "cell_type": "markdown",
      "metadata": {
        "id": "0JrAljj350Yf"
      },
      "source": [
        "## Exercise 5 - Survey of Australian Students\n",
        "\n",
        "Load the data file data/survey.csv. It contains the result of a survey of students from an Australian university.\n",
        "\n",
        "We want to investigate the relationship between some discrete (nominal or ordinal) variables in this dataset. For any pairs of variables listed below, follow these steps:\n",
        "\n",
        "* First, think about what exactly you expect for the given combination of variables.\n",
        "* Make a frequency table for the two variables. The (presumably) independent variable comes first.\n",
        "* Plot a graph visualizing the relationship between the two variables.\n",
        "- Looking at the chart, do you expect a rather high or rather low value for the $\\chi^2$ statistic? Why?\n",
        "* Run the $\\chi^2$ test to determine whether there is a relationship between the two variables. Calculate the $\\chi^2$ statistic, the critical limit $g$ and the $p$ value, each for significance level $\\alpha = 0.05$.\n",
        "* Should we accept or reject the null hypothesis? What exactly does that mean for the relationship between the two variables? In other words, formulate an answer to the research question.\n",
        "* Calculate Cramér's V. Do you come to a similar conclusion as with the $\\chi^2$ test?\n",
        "\n",
        "\n",
        "The variables to be investigated:\n",
        "\n",
        "| Independent variabele          | Dependent variabele                        |\n",
        "|:------------------------------ |:-------------------------------------------|\n",
        "| `Exer` (practicing sports)     | `Smoke`                                    |\n",
        "| `Sex` (gender)                 | `Smoke`                                    |\n",
        "| `W.Hnd` (dominant hand)        | `Fold` (top hand when you cross your arms) |\n",
        "| `Sex`                          | `W.Hnd`                                    |\n",
        "\n",
        "Results of the main calculations (rounded up to 3 decimal places):\n",
        "\n",
        "- `Exer/Smoke`: χ² ≈ 5.489, g ≈ 12.592, p ≈ 0.483\n",
        "- `W.Hnd/Fold`: χ² ≈ 1.581, g ≈ 5.992, p ≈ 0.454\n",
        "- `Sex/Smoke`: χ² ≈ 3.554, g ≈ 7.815, p ≈ 0.314\n",
        "- `Sex/W.Hnd`: χ² ≈ 0.236, g ≈ 3.842, p ≈ 0.627"
      ]
    },
    {
      "cell_type": "markdown",
      "metadata": {
        "id": "xLnXDNr2ULo_"
      },
      "source": [
        "Read the dataset."
      ]
    },
    {
      "cell_type": "code",
      "execution_count": 4,
      "metadata": {
        "id": "PImy42Ev_nfl"
      },
      "outputs": [
        {
          "data": {
            "text/html": [
              "<div>\n",
              "<style scoped>\n",
              "    .dataframe tbody tr th:only-of-type {\n",
              "        vertical-align: middle;\n",
              "    }\n",
              "\n",
              "    .dataframe tbody tr th {\n",
              "        vertical-align: top;\n",
              "    }\n",
              "\n",
              "    .dataframe thead th {\n",
              "        text-align: right;\n",
              "    }\n",
              "</style>\n",
              "<table border=\"1\" class=\"dataframe\">\n",
              "  <thead>\n",
              "    <tr style=\"text-align: right;\">\n",
              "      <th></th>\n",
              "      <th>Unnamed: 0</th>\n",
              "      <th>Sex</th>\n",
              "      <th>Wr.Hnd</th>\n",
              "      <th>NW.Hnd</th>\n",
              "      <th>W.Hnd</th>\n",
              "      <th>Fold</th>\n",
              "      <th>Pulse</th>\n",
              "      <th>Clap</th>\n",
              "      <th>Exer</th>\n",
              "      <th>Smoke</th>\n",
              "      <th>Height</th>\n",
              "      <th>M.I</th>\n",
              "      <th>Age</th>\n",
              "    </tr>\n",
              "  </thead>\n",
              "  <tbody>\n",
              "    <tr>\n",
              "      <th>0</th>\n",
              "      <td>1</td>\n",
              "      <td>Female</td>\n",
              "      <td>18.5</td>\n",
              "      <td>18</td>\n",
              "      <td>Right</td>\n",
              "      <td>R on L</td>\n",
              "      <td>92</td>\n",
              "      <td>Left</td>\n",
              "      <td>Some</td>\n",
              "      <td>Never</td>\n",
              "      <td>173</td>\n",
              "      <td>Metric</td>\n",
              "      <td>18.250</td>\n",
              "    </tr>\n",
              "    <tr>\n",
              "      <th>1</th>\n",
              "      <td>2</td>\n",
              "      <td>Male</td>\n",
              "      <td>19.5</td>\n",
              "      <td>20.5</td>\n",
              "      <td>Left</td>\n",
              "      <td>R on L</td>\n",
              "      <td>104</td>\n",
              "      <td>Left</td>\n",
              "      <td>None</td>\n",
              "      <td>Regul</td>\n",
              "      <td>177.8</td>\n",
              "      <td>Imperial</td>\n",
              "      <td>17.583</td>\n",
              "    </tr>\n",
              "    <tr>\n",
              "      <th>2</th>\n",
              "      <td>3</td>\n",
              "      <td>Male</td>\n",
              "      <td>18</td>\n",
              "      <td>13.3</td>\n",
              "      <td>Right</td>\n",
              "      <td>L on R</td>\n",
              "      <td>87</td>\n",
              "      <td>Neither</td>\n",
              "      <td>None</td>\n",
              "      <td>Occas</td>\n",
              "      <td>NA</td>\n",
              "      <td>NA</td>\n",
              "      <td>16.917</td>\n",
              "    </tr>\n",
              "    <tr>\n",
              "      <th>3</th>\n",
              "      <td>4</td>\n",
              "      <td>Male</td>\n",
              "      <td>18.8</td>\n",
              "      <td>18.9</td>\n",
              "      <td>Right</td>\n",
              "      <td>R on L</td>\n",
              "      <td>NA</td>\n",
              "      <td>Neither</td>\n",
              "      <td>None</td>\n",
              "      <td>Never</td>\n",
              "      <td>160</td>\n",
              "      <td>Metric</td>\n",
              "      <td>20.333</td>\n",
              "    </tr>\n",
              "    <tr>\n",
              "      <th>4</th>\n",
              "      <td>5</td>\n",
              "      <td>Male</td>\n",
              "      <td>20</td>\n",
              "      <td>20</td>\n",
              "      <td>Right</td>\n",
              "      <td>Neither</td>\n",
              "      <td>35</td>\n",
              "      <td>Right</td>\n",
              "      <td>Some</td>\n",
              "      <td>Never</td>\n",
              "      <td>165</td>\n",
              "      <td>Metric</td>\n",
              "      <td>23.667</td>\n",
              "    </tr>\n",
              "  </tbody>\n",
              "</table>\n",
              "</div>"
            ],
            "text/plain": [
              "   Unnamed: 0     Sex Wr.Hnd NW.Hnd  W.Hnd     Fold Pulse     Clap  Exer  \\\n",
              "0           1  Female   18.5     18  Right   R on L    92     Left  Some   \n",
              "1           2    Male   19.5   20.5   Left   R on L   104     Left  None   \n",
              "2           3    Male     18   13.3  Right   L on R    87  Neither  None   \n",
              "3           4    Male   18.8   18.9  Right   R on L    NA  Neither  None   \n",
              "4           5    Male     20     20  Right  Neither    35    Right  Some   \n",
              "\n",
              "   Smoke Height       M.I     Age  \n",
              "0  Never    173    Metric  18.250  \n",
              "1  Regul  177.8  Imperial  17.583  \n",
              "2  Occas     NA        NA  16.917  \n",
              "3  Never    160    Metric  20.333  \n",
              "4  Never    165    Metric  23.667  "
            ]
          },
          "execution_count": 4,
          "metadata": {},
          "output_type": "execute_result"
        }
      ],
      "source": [
        "df = pd.read_csv('https://raw.githubusercontent.com/JelleLeus1996/data_science/main/data/survey.csv', keep_default_na=False)\n",
        "df.head()"
      ]
    },
    {
      "cell_type": "markdown",
      "metadata": {
        "id": "ClPiYvicUTfi"
      },
      "source": [
        "What are the different values for Exer and Smoke?  \n",
        "Change both variables to ordinal variables with a specific order."
      ]
    },
    {
      "cell_type": "code",
      "execution_count": 7,
      "metadata": {
        "id": "XUspvasv-rn6"
      },
      "outputs": [
        {
          "data": {
            "text/plain": [
              "Exer\n",
              "Freq    115\n",
              "Some     98\n",
              "None     24\n",
              "Name: count, dtype: int64"
            ]
          },
          "execution_count": 7,
          "metadata": {},
          "output_type": "execute_result"
        }
      ],
      "source": [
        "# Verband tussen exercising & smoking?\n",
        "# 2 kwalitatieve variabelen => Chi-kwadraat\n",
        "# Moeten er categorische variabelen van maken. Wat zijn hun waarden?\n",
        "df.Exer.value_counts()\n",
        "\n"
      ]
    },
    {
      "cell_type": "code",
      "execution_count": 23,
      "metadata": {},
      "outputs": [
        {
          "data": {
            "text/plain": [
              "Smoke\n",
              "Never    189\n",
              "Occas     19\n",
              "Regul     17\n",
              "Heavy     11\n",
              "NA         1\n",
              "Name: count, dtype: int64"
            ]
          },
          "execution_count": 23,
          "metadata": {},
          "output_type": "execute_result"
        }
      ],
      "source": [
        "df.Smoke.value_counts()"
      ]
    },
    {
      "cell_type": "code",
      "execution_count": 8,
      "metadata": {},
      "outputs": [],
      "source": [
        "exer_type = CategoricalDtype(categories=['None','Some','Freq'], ordered=True)\n",
        "df.Exer = df.Exer.astype(exer_type)"
      ]
    },
    {
      "cell_type": "code",
      "execution_count": 9,
      "metadata": {},
      "outputs": [],
      "source": [
        "smoke_type = CategoricalDtype(categories=['Never','Occas','Regul','Heavy'], ordered=True)\n",
        "df.Smoke = df.Smoke.astype(smoke_type)"
      ]
    },
    {
      "cell_type": "code",
      "execution_count": 11,
      "metadata": {},
      "outputs": [
        {
          "name": "stdout",
          "output_type": "stream",
          "text": [
            "Chi-squared       : 5.4885\n",
            "Degrees of freedom: 6\n",
            "P-value           : 0.4828\n"
          ]
        }
      ],
      "source": [
        "# Chi-squared test for independence based on a contingency table\n",
        "# Dit is de korte Python versie!!!! Vervangt al het bovenstaande op een snelle wijze\n",
        "observed = pd.crosstab(df.Smoke, df.Exer)\n",
        "chi2, p, dof, expected = stats.chi2_contingency(observed)\n",
        "\n",
        "print(\"Chi-squared       : %.4f\" % chi2)\n",
        "print(\"Degrees of freedom: %d\" % dof)\n",
        "print(\"P-value           : %.4f\" % p)"
      ]
    },
    {
      "cell_type": "code",
      "execution_count": null,
      "metadata": {},
      "outputs": [],
      "source": [
        "# Conclusie\n",
        "# p-value: 48% > 5% => Er is niet voldoende reden om H0 te verwerpen\n",
        "# Er is geen associatie tussen smoke en Exer"
      ]
    },
    {
      "cell_type": "markdown",
      "metadata": {
        "id": "AHYMorUvUrpF"
      },
      "source": [
        "* Make a frequency table for the two variables. The (presumably) independent variable comes first.\n",
        "* Plot a graph visualizing the relationship between the two variables.\n",
        "* Looking at the chart, do you expect a rather high or rather low value for the  χ2  statistic? Why?\n",
        "* Run the  χ2  test to determine whether there is a relationship between the two variables. Calculate the  χ2  statistic, the critical limit  g  and the  p  value, each for significance level  α=0.05 .\n",
        "* Should we accept or reject the null hypothesis? What exactly does that mean for the relationship between the two variables? In other words, formulate an answer to the research question.\n",
        "* Calculate Cramér's V. Do you come to a similar conclusion as with the  χ2  test?\n",
        "\n",
        "The variables to be investigated:\n",
        "\n",
        "| Independent variabele          | Dependent variabele                        |\n",
        "|:------------------------------ |:-------------------------------------------|\n",
        "| `Exer` (practicing sports)     | `Smoke`                                    |\n",
        "| `Sex` (gender)                 | `Smoke`                                    |\n",
        "| `W.Hnd` (dominant hand)        | `Fold` (top hand when you cross your arms) |\n",
        "| `Sex`                          | `W.Hnd`                                    |\n",
        "\n",
        "Results of the main calculations (rounded up to 3 decimal places):\n",
        "\n",
        "- `Exer/Smoke`: χ² ≈ 5.489, g ≈ 12.592, p ≈ 0.483\n",
        "- `W.Hnd/Fold`: χ² ≈ 1.581, g ≈ 5.992, p ≈ 0.454\n",
        "- `Sex/Smoke`: χ² ≈ 3.554, g ≈ 7.815, p ≈ 0.314\n",
        "- `Sex/W.Hnd`: χ² ≈ 0.236, g ≈ 3.842, p ≈ 0.627"
      ]
    },
    {
      "cell_type": "markdown",
      "metadata": {
        "id": "-ymGHckoe-KW"
      },
      "source": [
        "Exer/Smoke: χ² ≈ 5.489, g ≈ 12.592, p ≈ 0.483"
      ]
    },
    {
      "cell_type": "code",
      "execution_count": 27,
      "metadata": {
        "id": "q9YgYP1c-XMM"
      },
      "outputs": [
        {
          "name": "stdout",
          "output_type": "stream",
          "text": [
            "5.991464547107983\n",
            "Chi squared is : 1.5814\n",
            "p value is : 0.4535\n",
            "Degrees of freedom : 5\n"
          ]
        }
      ],
      "source": [
        "w_hand_type = CategoricalDtype(categories=['Right','Left'],ordered=False)\n",
        "df['W.Hnd'] = df['W.Hnd'].astype(w_hand_type)\n",
        "observed = pd.crosstab(df['W.Hnd'], df.Fold)\n",
        "chi2, p, dof, expected = stats.chi2_contingency(observed)\n",
        "g = stats.chi2.isf(0.05,df=dof)\n",
        "print(g)\n",
        "print(\"Chi squared is : %.4f\"% chi2)\n",
        "print(\"p value is : %.4f\" % p)\n",
        "print(\"Degrees of freedom : %d\"% g)\n"
      ]
    },
    {
      "cell_type": "code",
      "execution_count": 29,
      "metadata": {
        "id": "HtyVSJPx4JMk"
      },
      "outputs": [
        {
          "name": "stdout",
          "output_type": "stream",
          "text": [
            "7.814727903251178\n",
            "Chi squared is : 3.5536\n",
            "p value is : 0.3139\n",
            "Degrees of freedom : 7\n"
          ]
        }
      ],
      "source": [
        "sex_type = CategoricalDtype(categories=['Female','Male'])\n",
        "df.Sex = df.Sex.astype(sex_type)\n",
        "observed = pd.crosstab(df.Sex, df.Smoke)\n",
        "chi2, p, dof, expected = stats.chi2_contingency(observed)\n",
        "alpha = 0.05\n",
        "g = stats.chi2.isf(alpha, df = dof)\n",
        "print(g)\n",
        "print(\"Chi squared is : %.4f\"% chi2)\n",
        "print(\"p value is : %.4f\" % p)\n",
        "print(\"Degrees of freedom : %d\"% g)"
      ]
    },
    {
      "cell_type": "code",
      "execution_count": null,
      "metadata": {
        "id": "1ndNnGy46Acx"
      },
      "outputs": [],
      "source": []
    },
    {
      "cell_type": "markdown",
      "metadata": {
        "id": "qXTX5yIAfDey"
      },
      "source": [
        "W.Hnd/Fold: χ² ≈ 1.581, g ≈ 5.992, p ≈ 0.454"
      ]
    },
    {
      "cell_type": "code",
      "execution_count": null,
      "metadata": {
        "id": "m8bhQxol-dw9"
      },
      "outputs": [],
      "source": []
    },
    {
      "cell_type": "markdown",
      "metadata": {
        "id": "P_--fDpVfGB7"
      },
      "source": [
        "Sex/Smoke: χ² ≈ 3.554, g ≈ 7.815, p ≈ 0.314"
      ]
    },
    {
      "cell_type": "code",
      "execution_count": null,
      "metadata": {
        "id": "Y81QYdd4-d51"
      },
      "outputs": [],
      "source": [
        "\n"
      ]
    },
    {
      "cell_type": "markdown",
      "metadata": {
        "id": "GBza24xKfPJ6"
      },
      "source": [
        "Sex/W.Hnd: χ² ≈ 0.236, g ≈ 3.842, p ≈ 0.627"
      ]
    },
    {
      "cell_type": "code",
      "execution_count": 30,
      "metadata": {
        "id": "nx8e1Rxo-eBE"
      },
      "outputs": [
        {
          "name": "stdout",
          "output_type": "stream",
          "text": [
            "3.8414588206941285\n",
            "Chi squared is : 0.2356\n",
            "p value is : 0.6274\n",
            "Degrees of freedom : 3\n"
          ]
        }
      ],
      "source": [
        "observed = pd.crosstab(df.Sex, df['W.Hnd'])\n",
        "chi2, p, dof, expected = stats.chi2_contingency(observed)\n",
        "alpha = 0.05\n",
        "g = stats.chi2.isf(alpha, df=dof)\n",
        "print(g)\n",
        "print(\"Chi squared is : %.4f\"% chi2)\n",
        "print(\"p value is : %.4f\" % p)\n",
        "print(\"Degrees of freedom : %d\"% g)"
      ]
    }
  ],
  "metadata": {
    "colab": {
      "collapsed_sections": [],
      "name": "labs-chi-squared.ipynb",
      "provenance": []
    },
    "interpreter": {
      "hash": "e7370f93d1d0cde622a1f8e1c04877d8463912d04d973331ad4851f04de6915a"
    },
    "kernelspec": {
      "display_name": "Python 3.10.0 64-bit",
      "language": "python",
      "name": "python3"
    },
    "language_info": {
      "codemirror_mode": {
        "name": "ipython",
        "version": 3
      },
      "file_extension": ".py",
      "mimetype": "text/x-python",
      "name": "python",
      "nbconvert_exporter": "python",
      "pygments_lexer": "ipython3",
      "version": "3.10.13"
    },
    "orig_nbformat": 4
  },
  "nbformat": 4,
  "nbformat_minor": 0
}
